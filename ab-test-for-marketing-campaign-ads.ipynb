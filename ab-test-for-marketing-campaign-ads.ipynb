{
 "cells": [
  {
   "cell_type": "code",
   "execution_count": 46,
   "id": "4ca04143",
   "metadata": {},
   "outputs": [],
   "source": [
    "## import needed libraries\n",
    "import numpy as np\n",
    "import pandas as pd\n",
    "from scipy.stats import ttest_ind\n",
    "from scipy.stats import norm\n",
    "import matplotlib.pyplot as plt\n",
    "import seaborn as sns\n",
    "from tqdm.auto import tqdm\n",
    "import seaborn as sns\n",
    "from scipy.stats import pearsonr,shapiro,levene,ttest_ind, mannwhitneyu"
   ]
  },
  {
   "cell_type": "code",
   "execution_count": 16,
   "id": "5823092e",
   "metadata": {},
   "outputs": [],
   "source": [
    "## load data\n",
    "control_df = pd.read_csv(r'data/control_group.csv', sep=';')\n",
    "test_df = pd.read_csv(r'data/test_group.csv', sep=';')"
   ]
  },
  {
   "cell_type": "code",
   "execution_count": 28,
   "id": "a39c8c70",
   "metadata": {},
   "outputs": [
    {
     "data": {
      "text/plain": [
       "Campaign Name           object\n",
       "Date                    object\n",
       "Spend [USD]              int64\n",
       "# of Impressions       float64\n",
       "Reach                  float64\n",
       "# of Website Clicks    float64\n",
       "# of Searches          float64\n",
       "# of View Content      float64\n",
       "# of Add to Cart       float64\n",
       "# of Purchase          float64\n",
       "dtype: object"
      ]
     },
     "execution_count": 28,
     "metadata": {},
     "output_type": "execute_result"
    }
   ],
   "source": [
    "## check type\n",
    "control_df.dtypes"
   ]
  },
  {
   "cell_type": "code",
   "execution_count": 29,
   "id": "7e0bc39d",
   "metadata": {},
   "outputs": [
    {
     "data": {
      "text/plain": [
       "Campaign Name          object\n",
       "Date                   object\n",
       "Spend [USD]             int64\n",
       "# of Impressions        int64\n",
       "Reach                   int64\n",
       "# of Website Clicks     int64\n",
       "# of Searches           int64\n",
       "# of View Content       int64\n",
       "# of Add to Cart        int64\n",
       "# of Purchase           int64\n",
       "dtype: object"
      ]
     },
     "execution_count": 29,
     "metadata": {},
     "output_type": "execute_result"
    }
   ],
   "source": [
    "## check type\n",
    "test_df.dtypes"
   ]
  },
  {
   "cell_type": "code",
   "execution_count": 17,
   "id": "e803c8ec",
   "metadata": {},
   "outputs": [
    {
     "data": {
      "text/html": [
       "<div>\n",
       "<style scoped>\n",
       "    .dataframe tbody tr th:only-of-type {\n",
       "        vertical-align: middle;\n",
       "    }\n",
       "\n",
       "    .dataframe tbody tr th {\n",
       "        vertical-align: top;\n",
       "    }\n",
       "\n",
       "    .dataframe thead th {\n",
       "        text-align: right;\n",
       "    }\n",
       "</style>\n",
       "<table border=\"1\" class=\"dataframe\">\n",
       "  <thead>\n",
       "    <tr style=\"text-align: right;\">\n",
       "      <th></th>\n",
       "      <th>Campaign Name</th>\n",
       "      <th>Date</th>\n",
       "      <th>Spend [USD]</th>\n",
       "      <th># of Impressions</th>\n",
       "      <th>Reach</th>\n",
       "      <th># of Website Clicks</th>\n",
       "      <th># of Searches</th>\n",
       "      <th># of View Content</th>\n",
       "      <th># of Add to Cart</th>\n",
       "      <th># of Purchase</th>\n",
       "    </tr>\n",
       "  </thead>\n",
       "  <tbody>\n",
       "    <tr>\n",
       "      <th>0</th>\n",
       "      <td>Control Campaign</td>\n",
       "      <td>1.08.2019</td>\n",
       "      <td>2280</td>\n",
       "      <td>82702.0</td>\n",
       "      <td>56930.0</td>\n",
       "      <td>7016.0</td>\n",
       "      <td>2290.0</td>\n",
       "      <td>2159.0</td>\n",
       "      <td>1819.0</td>\n",
       "      <td>618.0</td>\n",
       "    </tr>\n",
       "    <tr>\n",
       "      <th>1</th>\n",
       "      <td>Control Campaign</td>\n",
       "      <td>2.08.2019</td>\n",
       "      <td>1757</td>\n",
       "      <td>121040.0</td>\n",
       "      <td>102513.0</td>\n",
       "      <td>8110.0</td>\n",
       "      <td>2033.0</td>\n",
       "      <td>1841.0</td>\n",
       "      <td>1219.0</td>\n",
       "      <td>511.0</td>\n",
       "    </tr>\n",
       "    <tr>\n",
       "      <th>2</th>\n",
       "      <td>Control Campaign</td>\n",
       "      <td>3.08.2019</td>\n",
       "      <td>2343</td>\n",
       "      <td>131711.0</td>\n",
       "      <td>110862.0</td>\n",
       "      <td>6508.0</td>\n",
       "      <td>1737.0</td>\n",
       "      <td>1549.0</td>\n",
       "      <td>1134.0</td>\n",
       "      <td>372.0</td>\n",
       "    </tr>\n",
       "    <tr>\n",
       "      <th>3</th>\n",
       "      <td>Control Campaign</td>\n",
       "      <td>4.08.2019</td>\n",
       "      <td>1940</td>\n",
       "      <td>72878.0</td>\n",
       "      <td>61235.0</td>\n",
       "      <td>3065.0</td>\n",
       "      <td>1042.0</td>\n",
       "      <td>982.0</td>\n",
       "      <td>1183.0</td>\n",
       "      <td>340.0</td>\n",
       "    </tr>\n",
       "    <tr>\n",
       "      <th>4</th>\n",
       "      <td>Control Campaign</td>\n",
       "      <td>5.08.2019</td>\n",
       "      <td>1835</td>\n",
       "      <td>NaN</td>\n",
       "      <td>NaN</td>\n",
       "      <td>NaN</td>\n",
       "      <td>NaN</td>\n",
       "      <td>NaN</td>\n",
       "      <td>NaN</td>\n",
       "      <td>NaN</td>\n",
       "    </tr>\n",
       "  </tbody>\n",
       "</table>\n",
       "</div>"
      ],
      "text/plain": [
       "      Campaign Name       Date  Spend [USD]  # of Impressions     Reach  \\\n",
       "0  Control Campaign  1.08.2019         2280           82702.0   56930.0   \n",
       "1  Control Campaign  2.08.2019         1757          121040.0  102513.0   \n",
       "2  Control Campaign  3.08.2019         2343          131711.0  110862.0   \n",
       "3  Control Campaign  4.08.2019         1940           72878.0   61235.0   \n",
       "4  Control Campaign  5.08.2019         1835               NaN       NaN   \n",
       "\n",
       "   # of Website Clicks  # of Searches  # of View Content  # of Add to Cart  \\\n",
       "0               7016.0         2290.0             2159.0            1819.0   \n",
       "1               8110.0         2033.0             1841.0            1219.0   \n",
       "2               6508.0         1737.0             1549.0            1134.0   \n",
       "3               3065.0         1042.0              982.0            1183.0   \n",
       "4                  NaN            NaN                NaN               NaN   \n",
       "\n",
       "   # of Purchase  \n",
       "0          618.0  \n",
       "1          511.0  \n",
       "2          372.0  \n",
       "3          340.0  \n",
       "4            NaN  "
      ]
     },
     "execution_count": 17,
     "metadata": {},
     "output_type": "execute_result"
    }
   ],
   "source": [
    "## check\n",
    "control_df.head()"
   ]
  },
  {
   "cell_type": "code",
   "execution_count": 30,
   "id": "e17fc78a",
   "metadata": {},
   "outputs": [
    {
     "data": {
      "text/plain": [
       "Campaign Name          0\n",
       "Date                   0\n",
       "Spend [USD]            0\n",
       "# of Impressions       1\n",
       "Reach                  1\n",
       "# of Website Clicks    1\n",
       "# of Searches          1\n",
       "# of View Content      1\n",
       "# of Add to Cart       1\n",
       "# of Purchase          1\n",
       "dtype: int64"
      ]
     },
     "execution_count": 30,
     "metadata": {},
     "output_type": "execute_result"
    }
   ],
   "source": [
    "## check missing value\n",
    "control_df.isna().sum()"
   ]
  },
  {
   "cell_type": "code",
   "execution_count": 32,
   "id": "5b7f5825",
   "metadata": {},
   "outputs": [],
   "source": [
    "## remove missing value\n",
    "control_df.dropna(inplace=True)"
   ]
  },
  {
   "cell_type": "code",
   "execution_count": 33,
   "id": "2935eaa2",
   "metadata": {},
   "outputs": [
    {
     "data": {
      "text/plain": [
       "Campaign Name          0\n",
       "Date                   0\n",
       "Spend [USD]            0\n",
       "# of Impressions       0\n",
       "Reach                  0\n",
       "# of Website Clicks    0\n",
       "# of Searches          0\n",
       "# of View Content      0\n",
       "# of Add to Cart       0\n",
       "# of Purchase          0\n",
       "dtype: int64"
      ]
     },
     "execution_count": 33,
     "metadata": {},
     "output_type": "execute_result"
    }
   ],
   "source": [
    "## check missing value\n",
    "test_df.isna().sum()"
   ]
  },
  {
   "cell_type": "code",
   "execution_count": 34,
   "id": "7b9af672",
   "metadata": {},
   "outputs": [
    {
     "data": {
      "text/plain": [
       "(29, 10)"
      ]
     },
     "execution_count": 34,
     "metadata": {},
     "output_type": "execute_result"
    }
   ],
   "source": [
    "control_df.shape"
   ]
  },
  {
   "cell_type": "code",
   "execution_count": 35,
   "id": "855b50d9",
   "metadata": {},
   "outputs": [
    {
     "data": {
      "text/html": [
       "<div>\n",
       "<style scoped>\n",
       "    .dataframe tbody tr th:only-of-type {\n",
       "        vertical-align: middle;\n",
       "    }\n",
       "\n",
       "    .dataframe tbody tr th {\n",
       "        vertical-align: top;\n",
       "    }\n",
       "\n",
       "    .dataframe thead th {\n",
       "        text-align: right;\n",
       "    }\n",
       "</style>\n",
       "<table border=\"1\" class=\"dataframe\">\n",
       "  <thead>\n",
       "    <tr style=\"text-align: right;\">\n",
       "      <th></th>\n",
       "      <th>Campaign Name</th>\n",
       "      <th>Date</th>\n",
       "      <th>Spend [USD]</th>\n",
       "      <th># of Impressions</th>\n",
       "      <th>Reach</th>\n",
       "      <th># of Website Clicks</th>\n",
       "      <th># of Searches</th>\n",
       "      <th># of View Content</th>\n",
       "      <th># of Add to Cart</th>\n",
       "      <th># of Purchase</th>\n",
       "    </tr>\n",
       "  </thead>\n",
       "  <tbody>\n",
       "    <tr>\n",
       "      <th>0</th>\n",
       "      <td>Test Campaign</td>\n",
       "      <td>1.08.2019</td>\n",
       "      <td>3008</td>\n",
       "      <td>39550</td>\n",
       "      <td>35820</td>\n",
       "      <td>3038</td>\n",
       "      <td>1946</td>\n",
       "      <td>1069</td>\n",
       "      <td>894</td>\n",
       "      <td>255</td>\n",
       "    </tr>\n",
       "    <tr>\n",
       "      <th>1</th>\n",
       "      <td>Test Campaign</td>\n",
       "      <td>2.08.2019</td>\n",
       "      <td>2542</td>\n",
       "      <td>100719</td>\n",
       "      <td>91236</td>\n",
       "      <td>4657</td>\n",
       "      <td>2359</td>\n",
       "      <td>1548</td>\n",
       "      <td>879</td>\n",
       "      <td>677</td>\n",
       "    </tr>\n",
       "    <tr>\n",
       "      <th>2</th>\n",
       "      <td>Test Campaign</td>\n",
       "      <td>3.08.2019</td>\n",
       "      <td>2365</td>\n",
       "      <td>70263</td>\n",
       "      <td>45198</td>\n",
       "      <td>7885</td>\n",
       "      <td>2572</td>\n",
       "      <td>2367</td>\n",
       "      <td>1268</td>\n",
       "      <td>578</td>\n",
       "    </tr>\n",
       "    <tr>\n",
       "      <th>3</th>\n",
       "      <td>Test Campaign</td>\n",
       "      <td>4.08.2019</td>\n",
       "      <td>2710</td>\n",
       "      <td>78451</td>\n",
       "      <td>25937</td>\n",
       "      <td>4216</td>\n",
       "      <td>2216</td>\n",
       "      <td>1437</td>\n",
       "      <td>566</td>\n",
       "      <td>340</td>\n",
       "    </tr>\n",
       "    <tr>\n",
       "      <th>4</th>\n",
       "      <td>Test Campaign</td>\n",
       "      <td>5.08.2019</td>\n",
       "      <td>2297</td>\n",
       "      <td>114295</td>\n",
       "      <td>95138</td>\n",
       "      <td>5863</td>\n",
       "      <td>2106</td>\n",
       "      <td>858</td>\n",
       "      <td>956</td>\n",
       "      <td>768</td>\n",
       "    </tr>\n",
       "  </tbody>\n",
       "</table>\n",
       "</div>"
      ],
      "text/plain": [
       "   Campaign Name       Date  Spend [USD]  # of Impressions  Reach  \\\n",
       "0  Test Campaign  1.08.2019         3008             39550  35820   \n",
       "1  Test Campaign  2.08.2019         2542            100719  91236   \n",
       "2  Test Campaign  3.08.2019         2365             70263  45198   \n",
       "3  Test Campaign  4.08.2019         2710             78451  25937   \n",
       "4  Test Campaign  5.08.2019         2297            114295  95138   \n",
       "\n",
       "   # of Website Clicks  # of Searches  # of View Content  # of Add to Cart  \\\n",
       "0                 3038           1946               1069               894   \n",
       "1                 4657           2359               1548               879   \n",
       "2                 7885           2572               2367              1268   \n",
       "3                 4216           2216               1437               566   \n",
       "4                 5863           2106                858               956   \n",
       "\n",
       "   # of Purchase  \n",
       "0            255  \n",
       "1            677  \n",
       "2            578  \n",
       "3            340  \n",
       "4            768  "
      ]
     },
     "execution_count": 35,
     "metadata": {},
     "output_type": "execute_result"
    }
   ],
   "source": [
    "## check\n",
    "test_df.head()"
   ]
  },
  {
   "cell_type": "code",
   "execution_count": 36,
   "id": "d091a7ed",
   "metadata": {},
   "outputs": [
    {
     "data": {
      "text/plain": [
       "(30, 10)"
      ]
     },
     "execution_count": 36,
     "metadata": {},
     "output_type": "execute_result"
    }
   ],
   "source": [
    "test_df.shape"
   ]
  },
  {
   "cell_type": "code",
   "execution_count": 37,
   "id": "f8d9b089",
   "metadata": {},
   "outputs": [
    {
     "data": {
      "text/html": [
       "<div>\n",
       "<style scoped>\n",
       "    .dataframe tbody tr th:only-of-type {\n",
       "        vertical-align: middle;\n",
       "    }\n",
       "\n",
       "    .dataframe tbody tr th {\n",
       "        vertical-align: top;\n",
       "    }\n",
       "\n",
       "    .dataframe thead th {\n",
       "        text-align: right;\n",
       "    }\n",
       "</style>\n",
       "<table border=\"1\" class=\"dataframe\">\n",
       "  <thead>\n",
       "    <tr style=\"text-align: right;\">\n",
       "      <th></th>\n",
       "      <th>count</th>\n",
       "      <th>mean</th>\n",
       "      <th>std</th>\n",
       "      <th>min</th>\n",
       "      <th>25%</th>\n",
       "      <th>50%</th>\n",
       "      <th>75%</th>\n",
       "      <th>max</th>\n",
       "    </tr>\n",
       "  </thead>\n",
       "  <tbody>\n",
       "    <tr>\n",
       "      <th>Spend [USD]</th>\n",
       "      <td>29.0</td>\n",
       "      <td>2304.068966</td>\n",
       "      <td>363.534822</td>\n",
       "      <td>1757.0</td>\n",
       "      <td>1962.0</td>\n",
       "      <td>2319.0</td>\n",
       "      <td>2544.0</td>\n",
       "      <td>3083.0</td>\n",
       "    </tr>\n",
       "    <tr>\n",
       "      <th># of Impressions</th>\n",
       "      <td>29.0</td>\n",
       "      <td>109559.758621</td>\n",
       "      <td>21688.922908</td>\n",
       "      <td>71274.0</td>\n",
       "      <td>92029.0</td>\n",
       "      <td>113430.0</td>\n",
       "      <td>121332.0</td>\n",
       "      <td>145248.0</td>\n",
       "    </tr>\n",
       "    <tr>\n",
       "      <th>Reach</th>\n",
       "      <td>29.0</td>\n",
       "      <td>88844.931034</td>\n",
       "      <td>21832.349595</td>\n",
       "      <td>42859.0</td>\n",
       "      <td>74192.0</td>\n",
       "      <td>91579.0</td>\n",
       "      <td>102479.0</td>\n",
       "      <td>127852.0</td>\n",
       "    </tr>\n",
       "    <tr>\n",
       "      <th># of Website Clicks</th>\n",
       "      <td>29.0</td>\n",
       "      <td>5320.793103</td>\n",
       "      <td>1757.369003</td>\n",
       "      <td>2277.0</td>\n",
       "      <td>4085.0</td>\n",
       "      <td>5224.0</td>\n",
       "      <td>6628.0</td>\n",
       "      <td>8137.0</td>\n",
       "    </tr>\n",
       "    <tr>\n",
       "      <th># of Searches</th>\n",
       "      <td>29.0</td>\n",
       "      <td>2221.310345</td>\n",
       "      <td>866.089368</td>\n",
       "      <td>1001.0</td>\n",
       "      <td>1615.0</td>\n",
       "      <td>2390.0</td>\n",
       "      <td>2711.0</td>\n",
       "      <td>4891.0</td>\n",
       "    </tr>\n",
       "    <tr>\n",
       "      <th># of View Content</th>\n",
       "      <td>29.0</td>\n",
       "      <td>1943.793103</td>\n",
       "      <td>777.545469</td>\n",
       "      <td>848.0</td>\n",
       "      <td>1249.0</td>\n",
       "      <td>1984.0</td>\n",
       "      <td>2421.0</td>\n",
       "      <td>4219.0</td>\n",
       "    </tr>\n",
       "    <tr>\n",
       "      <th># of Add to Cart</th>\n",
       "      <td>29.0</td>\n",
       "      <td>1300.000000</td>\n",
       "      <td>407.457973</td>\n",
       "      <td>442.0</td>\n",
       "      <td>930.0</td>\n",
       "      <td>1339.0</td>\n",
       "      <td>1641.0</td>\n",
       "      <td>1913.0</td>\n",
       "    </tr>\n",
       "    <tr>\n",
       "      <th># of Purchase</th>\n",
       "      <td>29.0</td>\n",
       "      <td>522.793103</td>\n",
       "      <td>185.028642</td>\n",
       "      <td>222.0</td>\n",
       "      <td>372.0</td>\n",
       "      <td>501.0</td>\n",
       "      <td>670.0</td>\n",
       "      <td>800.0</td>\n",
       "    </tr>\n",
       "  </tbody>\n",
       "</table>\n",
       "</div>"
      ],
      "text/plain": [
       "                     count           mean           std      min      25%  \\\n",
       "Spend [USD]           29.0    2304.068966    363.534822   1757.0   1962.0   \n",
       "# of Impressions      29.0  109559.758621  21688.922908  71274.0  92029.0   \n",
       "Reach                 29.0   88844.931034  21832.349595  42859.0  74192.0   \n",
       "# of Website Clicks   29.0    5320.793103   1757.369003   2277.0   4085.0   \n",
       "# of Searches         29.0    2221.310345    866.089368   1001.0   1615.0   \n",
       "# of View Content     29.0    1943.793103    777.545469    848.0   1249.0   \n",
       "# of Add to Cart      29.0    1300.000000    407.457973    442.0    930.0   \n",
       "# of Purchase         29.0     522.793103    185.028642    222.0    372.0   \n",
       "\n",
       "                          50%       75%       max  \n",
       "Spend [USD]            2319.0    2544.0    3083.0  \n",
       "# of Impressions     113430.0  121332.0  145248.0  \n",
       "Reach                 91579.0  102479.0  127852.0  \n",
       "# of Website Clicks    5224.0    6628.0    8137.0  \n",
       "# of Searches          2390.0    2711.0    4891.0  \n",
       "# of View Content      1984.0    2421.0    4219.0  \n",
       "# of Add to Cart       1339.0    1641.0    1913.0  \n",
       "# of Purchase           501.0     670.0     800.0  "
      ]
     },
     "execution_count": 37,
     "metadata": {},
     "output_type": "execute_result"
    }
   ],
   "source": [
    "## check descriptive\n",
    "control_df.describe().T"
   ]
  },
  {
   "cell_type": "code",
   "execution_count": 38,
   "id": "2b0dc0b3",
   "metadata": {},
   "outputs": [
    {
     "data": {
      "text/html": [
       "<div>\n",
       "<style scoped>\n",
       "    .dataframe tbody tr th:only-of-type {\n",
       "        vertical-align: middle;\n",
       "    }\n",
       "\n",
       "    .dataframe tbody tr th {\n",
       "        vertical-align: top;\n",
       "    }\n",
       "\n",
       "    .dataframe thead th {\n",
       "        text-align: right;\n",
       "    }\n",
       "</style>\n",
       "<table border=\"1\" class=\"dataframe\">\n",
       "  <thead>\n",
       "    <tr style=\"text-align: right;\">\n",
       "      <th></th>\n",
       "      <th>count</th>\n",
       "      <th>mean</th>\n",
       "      <th>std</th>\n",
       "      <th>min</th>\n",
       "      <th>25%</th>\n",
       "      <th>50%</th>\n",
       "      <th>75%</th>\n",
       "      <th>max</th>\n",
       "    </tr>\n",
       "  </thead>\n",
       "  <tbody>\n",
       "    <tr>\n",
       "      <th>Spend [USD]</th>\n",
       "      <td>30.0</td>\n",
       "      <td>2563.066667</td>\n",
       "      <td>348.687681</td>\n",
       "      <td>1968.0</td>\n",
       "      <td>2324.50</td>\n",
       "      <td>2584.0</td>\n",
       "      <td>2836.25</td>\n",
       "      <td>3112.0</td>\n",
       "    </tr>\n",
       "    <tr>\n",
       "      <th># of Impressions</th>\n",
       "      <td>30.0</td>\n",
       "      <td>74584.800000</td>\n",
       "      <td>32121.377422</td>\n",
       "      <td>22521.0</td>\n",
       "      <td>47541.25</td>\n",
       "      <td>68853.5</td>\n",
       "      <td>99500.00</td>\n",
       "      <td>133771.0</td>\n",
       "    </tr>\n",
       "    <tr>\n",
       "      <th>Reach</th>\n",
       "      <td>30.0</td>\n",
       "      <td>53491.566667</td>\n",
       "      <td>28795.775752</td>\n",
       "      <td>10598.0</td>\n",
       "      <td>31516.25</td>\n",
       "      <td>44219.5</td>\n",
       "      <td>78778.75</td>\n",
       "      <td>109834.0</td>\n",
       "    </tr>\n",
       "    <tr>\n",
       "      <th># of Website Clicks</th>\n",
       "      <td>30.0</td>\n",
       "      <td>6032.333333</td>\n",
       "      <td>1708.567263</td>\n",
       "      <td>3038.0</td>\n",
       "      <td>4407.00</td>\n",
       "      <td>6242.5</td>\n",
       "      <td>7604.75</td>\n",
       "      <td>8264.0</td>\n",
       "    </tr>\n",
       "    <tr>\n",
       "      <th># of Searches</th>\n",
       "      <td>30.0</td>\n",
       "      <td>2418.966667</td>\n",
       "      <td>388.742312</td>\n",
       "      <td>1854.0</td>\n",
       "      <td>2043.00</td>\n",
       "      <td>2395.5</td>\n",
       "      <td>2801.25</td>\n",
       "      <td>2978.0</td>\n",
       "    </tr>\n",
       "    <tr>\n",
       "      <th># of View Content</th>\n",
       "      <td>30.0</td>\n",
       "      <td>1858.000000</td>\n",
       "      <td>597.654669</td>\n",
       "      <td>858.0</td>\n",
       "      <td>1320.00</td>\n",
       "      <td>1881.0</td>\n",
       "      <td>2412.00</td>\n",
       "      <td>2801.0</td>\n",
       "    </tr>\n",
       "    <tr>\n",
       "      <th># of Add to Cart</th>\n",
       "      <td>30.0</td>\n",
       "      <td>881.533333</td>\n",
       "      <td>347.584248</td>\n",
       "      <td>278.0</td>\n",
       "      <td>582.50</td>\n",
       "      <td>974.0</td>\n",
       "      <td>1148.50</td>\n",
       "      <td>1391.0</td>\n",
       "    </tr>\n",
       "    <tr>\n",
       "      <th># of Purchase</th>\n",
       "      <td>30.0</td>\n",
       "      <td>521.233333</td>\n",
       "      <td>211.047745</td>\n",
       "      <td>238.0</td>\n",
       "      <td>298.00</td>\n",
       "      <td>500.0</td>\n",
       "      <td>701.00</td>\n",
       "      <td>890.0</td>\n",
       "    </tr>\n",
       "  </tbody>\n",
       "</table>\n",
       "</div>"
      ],
      "text/plain": [
       "                     count          mean           std      min       25%  \\\n",
       "Spend [USD]           30.0   2563.066667    348.687681   1968.0   2324.50   \n",
       "# of Impressions      30.0  74584.800000  32121.377422  22521.0  47541.25   \n",
       "Reach                 30.0  53491.566667  28795.775752  10598.0  31516.25   \n",
       "# of Website Clicks   30.0   6032.333333   1708.567263   3038.0   4407.00   \n",
       "# of Searches         30.0   2418.966667    388.742312   1854.0   2043.00   \n",
       "# of View Content     30.0   1858.000000    597.654669    858.0   1320.00   \n",
       "# of Add to Cart      30.0    881.533333    347.584248    278.0    582.50   \n",
       "# of Purchase         30.0    521.233333    211.047745    238.0    298.00   \n",
       "\n",
       "                         50%       75%       max  \n",
       "Spend [USD]           2584.0   2836.25    3112.0  \n",
       "# of Impressions     68853.5  99500.00  133771.0  \n",
       "Reach                44219.5  78778.75  109834.0  \n",
       "# of Website Clicks   6242.5   7604.75    8264.0  \n",
       "# of Searches         2395.5   2801.25    2978.0  \n",
       "# of View Content     1881.0   2412.00    2801.0  \n",
       "# of Add to Cart       974.0   1148.50    1391.0  \n",
       "# of Purchase          500.0    701.00     890.0  "
      ]
     },
     "execution_count": 38,
     "metadata": {},
     "output_type": "execute_result"
    }
   ],
   "source": [
    "## check descriptive\n",
    "test_df.describe().T"
   ]
  },
  {
   "cell_type": "code",
   "execution_count": 39,
   "id": "d62f5526",
   "metadata": {},
   "outputs": [],
   "source": [
    "## put comparison of descriptive statistics of two groups\n",
    "desc_compare_df = pd.DataFrame ({\"Control_Impression\": control_df[\"# of Impressions\"].describe (),\"Test_Impression\": test_df[\"# of Impressions\"].describe (),\n",
    "                                 \"Control_Click\": control_df[\"# of Website Clicks\"].describe (),\"Test_Click\": test_df[\"# of Website Clicks\"].describe (),\n",
    "                                 \"Control_Add_to_Cart\": control_df[\"# of Add to Cart\"].describe (),\"Test_Add_to_Cart\": test_df[\"# of Add to Cart\"].describe (),\n",
    "                                 \"Control_Purchase\": control_df[\"# of Purchase\"].describe (),\"Test_Purchase\": test_df[\"# of Purchase\"].describe ()})"
   ]
  },
  {
   "cell_type": "code",
   "execution_count": 40,
   "id": "f9617662",
   "metadata": {},
   "outputs": [
    {
     "data": {
      "text/html": [
       "<div>\n",
       "<style scoped>\n",
       "    .dataframe tbody tr th:only-of-type {\n",
       "        vertical-align: middle;\n",
       "    }\n",
       "\n",
       "    .dataframe tbody tr th {\n",
       "        vertical-align: top;\n",
       "    }\n",
       "\n",
       "    .dataframe thead th {\n",
       "        text-align: right;\n",
       "    }\n",
       "</style>\n",
       "<table border=\"1\" class=\"dataframe\">\n",
       "  <thead>\n",
       "    <tr style=\"text-align: right;\">\n",
       "      <th></th>\n",
       "      <th>Control_Impression</th>\n",
       "      <th>Test_Impression</th>\n",
       "      <th>Control_Click</th>\n",
       "      <th>Test_Click</th>\n",
       "      <th>Control_Add_to_Cart</th>\n",
       "      <th>Test_Add_to_Cart</th>\n",
       "      <th>Control_Purchase</th>\n",
       "      <th>Test_Purchase</th>\n",
       "    </tr>\n",
       "  </thead>\n",
       "  <tbody>\n",
       "    <tr>\n",
       "      <th>count</th>\n",
       "      <td>29.000000</td>\n",
       "      <td>30.000000</td>\n",
       "      <td>29.000000</td>\n",
       "      <td>30.000000</td>\n",
       "      <td>29.000000</td>\n",
       "      <td>30.000000</td>\n",
       "      <td>29.000000</td>\n",
       "      <td>30.000000</td>\n",
       "    </tr>\n",
       "    <tr>\n",
       "      <th>mean</th>\n",
       "      <td>109559.758621</td>\n",
       "      <td>74584.800000</td>\n",
       "      <td>5320.793103</td>\n",
       "      <td>6032.333333</td>\n",
       "      <td>1300.000000</td>\n",
       "      <td>881.533333</td>\n",
       "      <td>522.793103</td>\n",
       "      <td>521.233333</td>\n",
       "    </tr>\n",
       "    <tr>\n",
       "      <th>std</th>\n",
       "      <td>21688.922908</td>\n",
       "      <td>32121.377422</td>\n",
       "      <td>1757.369003</td>\n",
       "      <td>1708.567263</td>\n",
       "      <td>407.457973</td>\n",
       "      <td>347.584248</td>\n",
       "      <td>185.028642</td>\n",
       "      <td>211.047745</td>\n",
       "    </tr>\n",
       "    <tr>\n",
       "      <th>min</th>\n",
       "      <td>71274.000000</td>\n",
       "      <td>22521.000000</td>\n",
       "      <td>2277.000000</td>\n",
       "      <td>3038.000000</td>\n",
       "      <td>442.000000</td>\n",
       "      <td>278.000000</td>\n",
       "      <td>222.000000</td>\n",
       "      <td>238.000000</td>\n",
       "    </tr>\n",
       "    <tr>\n",
       "      <th>25%</th>\n",
       "      <td>92029.000000</td>\n",
       "      <td>47541.250000</td>\n",
       "      <td>4085.000000</td>\n",
       "      <td>4407.000000</td>\n",
       "      <td>930.000000</td>\n",
       "      <td>582.500000</td>\n",
       "      <td>372.000000</td>\n",
       "      <td>298.000000</td>\n",
       "    </tr>\n",
       "  </tbody>\n",
       "</table>\n",
       "</div>"
      ],
      "text/plain": [
       "       Control_Impression  Test_Impression  Control_Click   Test_Click  \\\n",
       "count           29.000000        30.000000      29.000000    30.000000   \n",
       "mean        109559.758621     74584.800000    5320.793103  6032.333333   \n",
       "std          21688.922908     32121.377422    1757.369003  1708.567263   \n",
       "min          71274.000000     22521.000000    2277.000000  3038.000000   \n",
       "25%          92029.000000     47541.250000    4085.000000  4407.000000   \n",
       "\n",
       "       Control_Add_to_Cart  Test_Add_to_Cart  Control_Purchase  Test_Purchase  \n",
       "count            29.000000         30.000000         29.000000      30.000000  \n",
       "mean           1300.000000        881.533333        522.793103     521.233333  \n",
       "std             407.457973        347.584248        185.028642     211.047745  \n",
       "min             442.000000        278.000000        222.000000     238.000000  \n",
       "25%             930.000000        582.500000        372.000000     298.000000  "
      ]
     },
     "execution_count": 40,
     "metadata": {},
     "output_type": "execute_result"
    }
   ],
   "source": [
    "desc_compare_df.head() "
   ]
  },
  {
   "cell_type": "markdown",
   "id": "cb7b3fc0",
   "metadata": {},
   "source": [
    "<h3>Assumption Check</h3>"
   ]
  },
  {
   "cell_type": "code",
   "execution_count": 66,
   "id": "ab89bb09",
   "metadata": {},
   "outputs": [
    {
     "name": "stderr",
     "output_type": "stream",
     "text": [
      "C:\\Users\\muarrikh.yazka\\Anaconda3\\lib\\site-packages\\seaborn\\distributions.py:2619: FutureWarning: `distplot` is a deprecated function and will be removed in a future version. Please adapt your code to use either `displot` (a figure-level function with similar flexibility) or `kdeplot` (an axes-level function for kernel density plots).\n",
      "  warnings.warn(msg, FutureWarning)\n",
      "C:\\Users\\muarrikh.yazka\\Anaconda3\\lib\\site-packages\\seaborn\\distributions.py:2619: FutureWarning: `distplot` is a deprecated function and will be removed in a future version. Please adapt your code to use either `displot` (a figure-level function with similar flexibility) or `kdeplot` (an axes-level function for kernel density plots).\n",
      "  warnings.warn(msg, FutureWarning)\n",
      "C:\\Users\\muarrikh.yazka\\Anaconda3\\lib\\site-packages\\seaborn\\distributions.py:2619: FutureWarning: `distplot` is a deprecated function and will be removed in a future version. Please adapt your code to use either `displot` (a figure-level function with similar flexibility) or `kdeplot` (an axes-level function for kernel density plots).\n",
      "  warnings.warn(msg, FutureWarning)\n",
      "C:\\Users\\muarrikh.yazka\\Anaconda3\\lib\\site-packages\\seaborn\\distributions.py:2619: FutureWarning: `distplot` is a deprecated function and will be removed in a future version. Please adapt your code to use either `displot` (a figure-level function with similar flexibility) or `kdeplot` (an axes-level function for kernel density plots).\n",
      "  warnings.warn(msg, FutureWarning)\n",
      "C:\\Users\\muarrikh.yazka\\Anaconda3\\lib\\site-packages\\seaborn\\distributions.py:2619: FutureWarning: `distplot` is a deprecated function and will be removed in a future version. Please adapt your code to use either `displot` (a figure-level function with similar flexibility) or `kdeplot` (an axes-level function for kernel density plots).\n",
      "  warnings.warn(msg, FutureWarning)\n",
      "C:\\Users\\muarrikh.yazka\\Anaconda3\\lib\\site-packages\\seaborn\\distributions.py:2619: FutureWarning: `distplot` is a deprecated function and will be removed in a future version. Please adapt your code to use either `displot` (a figure-level function with similar flexibility) or `kdeplot` (an axes-level function for kernel density plots).\n",
      "  warnings.warn(msg, FutureWarning)\n",
      "C:\\Users\\muarrikh.yazka\\Anaconda3\\lib\\site-packages\\seaborn\\distributions.py:2619: FutureWarning: `distplot` is a deprecated function and will be removed in a future version. Please adapt your code to use either `displot` (a figure-level function with similar flexibility) or `kdeplot` (an axes-level function for kernel density plots).\n",
      "  warnings.warn(msg, FutureWarning)\n",
      "C:\\Users\\muarrikh.yazka\\Anaconda3\\lib\\site-packages\\seaborn\\distributions.py:2619: FutureWarning: `distplot` is a deprecated function and will be removed in a future version. Please adapt your code to use either `displot` (a figure-level function with similar flexibility) or `kdeplot` (an axes-level function for kernel density plots).\n",
      "  warnings.warn(msg, FutureWarning)\n"
     ]
    },
    {
     "data": {
      "image/png": "[encoded data removed]",
      "text/plain": [
       "<Figure size 1080x1728 with 8 Axes>"
      ]
     },
     "metadata": {
      "needs_background": "light"
     },
     "output_type": "display_data"
    }
   ],
   "source": [
    "## check normality by chart\n",
    "cols = ['# of Impressions','# of Website Clicks','# of Add to Cart','# of Purchase']\n",
    "row = 0\n",
    "fig, ax = plt.subplots(4,2)\n",
    "fig.set_figheight(24)\n",
    "fig.set_figwidth(15)\n",
    "for col in cols:\n",
    "    sns.distplot (control_df[col], hist=False,ax=ax[row][0])\n",
    "    sns.distplot (test_df[col], hist=False,ax=ax[row][1])\n",
    "    ax[row][0].set_title('Control')\n",
    "    ax[row][1].set_title('Test')\n",
    "    row+=1\n",
    "plt.show()"
   ]
  },
  {
   "cell_type": "code",
   "execution_count": 43,
   "id": "3445e307",
   "metadata": {},
   "outputs": [
    {
     "name": "stdout",
     "output_type": "stream",
     "text": [
      "Control Group \n",
      "\n",
      "# of Impressions\n",
      "Test Stat = 0.9426, p-value = 0.1172 \n",
      "\n",
      "# of Website Clicks\n",
      "Test Stat = 0.9586, p-value = 0.3043 \n",
      "\n",
      "# of Add to Cart\n",
      "Test Stat = 0.9554, p-value = 0.2525 \n",
      "\n",
      "# of Purchase\n",
      "Test Stat = 0.9381, p-value = 0.0896 \n",
      "\n"
     ]
    }
   ],
   "source": [
    "print('Control Group \\n')\n",
    "for col in cols:\n",
    "    test_stat, pvalue = shapiro(control_df[col])\n",
    "    print(col)\n",
    "    print('Test Stat = %.4f, p-value = %.4f \\n' % (test_stat, pvalue))"
   ]
  },
  {
   "cell_type": "code",
   "execution_count": null,
   "id": "0b4b0ebd",
   "metadata": {},
   "outputs": [],
   "source": [
    "## All p-values are higher than 0.05 it means H0 cannot be rejected. The assumption of normality is provided."
   ]
  },
  {
   "cell_type": "code",
   "execution_count": 44,
   "id": "21cf941f",
   "metadata": {},
   "outputs": [
    {
     "name": "stdout",
     "output_type": "stream",
     "text": [
      "Test Group \n",
      "\n",
      "# of Impressions\n",
      "Test Stat = 0.9485, p-value = 0.1537 \n",
      "\n",
      "# of Website Clicks\n",
      "Test Stat = 0.9062, p-value = 0.0120 \n",
      "\n",
      "# of Add to Cart\n",
      "Test Stat = 0.9236, p-value = 0.0332 \n",
      "\n",
      "# of Purchase\n",
      "Test Stat = 0.9182, p-value = 0.0241 \n",
      "\n"
     ]
    }
   ],
   "source": [
    "print('Test Group \\n')\n",
    "for col in cols:\n",
    "    test_stat, pvalue = shapiro(test_df[col])\n",
    "    print(col)\n",
    "    print('Test Stat = %.4f, p-value = %.4f \\n' % (test_stat, pvalue) )"
   ]
  },
  {
   "cell_type": "code",
   "execution_count": null,
   "id": "9b4a0870",
   "metadata": {},
   "outputs": [],
   "source": [
    "## # of Impressions is normal, but the rest is not"
   ]
  },
  {
   "cell_type": "code",
   "execution_count": 47,
   "id": "e803cf76",
   "metadata": {},
   "outputs": [
    {
     "name": "stdout",
     "output_type": "stream",
     "text": [
      "# of Impressions\n",
      "ttest statistics: 6.8867144172541295\n",
      "p_value: 0.011125294220972793\n",
      "\n",
      "# of Website Clicks\n",
      "ttest statistics: 0.041895271352688654\n",
      "p_value: 0.8385486753201417\n",
      "\n",
      "# of Add to Cart\n",
      "ttest statistics: 1.4290971599392581\n",
      "p_value: 0.2368617582504474\n",
      "\n",
      "# of Purchase\n",
      "ttest statistics: 1.230260648051359\n",
      "p_value: 0.2720142278811527\n",
      "\n"
     ]
    }
   ],
   "source": [
    "for col in cols:\n",
    "    ttest_lev, p_value_lev = levene (control_df[col], test_df[col])\n",
    "    print(col)\n",
    "    print (\"ttest statistics: {}\\np_value: {}\\n\".format (ttest_lev, p_value_lev))"
   ]
  },
  {
   "cell_type": "code",
   "execution_count": null,
   "id": "9960289b",
   "metadata": {},
   "outputs": [],
   "source": [
    "# All of the p values except those for the # of Impressions are higher than 0.05, \n",
    "# it means we cannot reject the H0 hypothesis. \n",
    "# Therefore, we can say that there is NO statistically significant difference between the variance distributions of the # of Website Clicks,# of Add to Cart and # of Purchase values of the 2 groups.\n",
    "# There is statistically significant difference between the variance distributions of the # of Impressions values of the 2 groups."
   ]
  },
  {
   "cell_type": "markdown",
   "id": "d3863642",
   "metadata": {},
   "source": [
    "<h3>Parametric Comparison (Independent Two-Sample T-Test)</h3>"
   ]
  },
  {
   "cell_type": "code",
   "execution_count": null,
   "id": "724ef6ae",
   "metadata": {},
   "outputs": [],
   "source": [
    "# H0: µ1 = µ2 (the two population means are equal)\n",
    "# H1: µ1 ≠ µ2 (the two population means are not equal)"
   ]
  },
  {
   "cell_type": "code",
   "execution_count": 49,
   "id": "107580e3",
   "metadata": {},
   "outputs": [
    {
     "name": "stdout",
     "output_type": "stream",
     "text": [
      "ttest statistics: -1.576909404840952\n",
      "p_value: 0.12035072366063822\n"
     ]
    }
   ],
   "source": [
    "ttest_ind_Click, p_value_ind_Click = ttest_ind (control_df[\"# of Website Clicks\"], test_df[\"# of Website Clicks\"], equal_var=True)\n",
    "print (\"ttest statistics: {}\\np_value: {}\".format (ttest_ind_Click, p_value_ind_Click))"
   ]
  },
  {
   "cell_type": "code",
   "execution_count": 50,
   "id": "89ccae2d",
   "metadata": {},
   "outputs": [
    {
     "name": "stdout",
     "output_type": "stream",
     "text": [
      "ttest statistics: 4.24906420944249\n",
      "p_value: 8.032960071149041e-05\n"
     ]
    }
   ],
   "source": [
    "ttest_ind_Add_to_Cart, p_value_ind_Add_to_Cart = ttest_ind (control_df[\"# of Add to Cart\"], test_df[\"# of Add to Cart\"], equal_var=True)\n",
    "print (\"ttest statistics: {}\\np_value: {}\".format (ttest_ind_Add_to_Cart, p_value_ind_Add_to_Cart))"
   ]
  },
  {
   "cell_type": "code",
   "execution_count": 51,
   "id": "f358b944",
   "metadata": {},
   "outputs": [
    {
     "name": "stdout",
     "output_type": "stream",
     "text": [
      "ttest statistics: 0.03014479856562245\n",
      "p_value: 0.9760568756579724\n"
     ]
    }
   ],
   "source": [
    "ttest_ind_Purch, p_value_ind_Purch = ttest_ind (control_df[\"# of Purchase\"], test_df[\"# of Purchase\"], equal_var=True)\n",
    "print (\"ttest statistics: {}\\np_value: {}\".format (ttest_ind_Purch, p_value_ind_Purch))"
   ]
  },
  {
   "cell_type": "markdown",
   "id": "a59498b7",
   "metadata": {},
   "source": [
    "<h3>Nonparametric Comparison (Mann-Whitney U Test)</h3>"
   ]
  },
  {
   "cell_type": "code",
   "execution_count": 52,
   "id": "5ab02049",
   "metadata": {},
   "outputs": [
    {
     "name": "stdout",
     "output_type": "stream",
     "text": [
      "ttest statistics: 697.0\n",
      "p_value: 7.344126278759323e-05\n"
     ]
    }
   ],
   "source": [
    "ttest_value_Imp, p_value_Imp = mannwhitneyu (control_df[\"# of Impressions\"], test_df[\"# of Impressions\"])\n",
    "print (\"ttest statistics: {}\\np_value: {}\".format (ttest_value_Imp, p_value_Imp))"
   ]
  },
  {
   "cell_type": "markdown",
   "id": "73f5dc4e",
   "metadata": {},
   "source": [
    "<h3>Conclusion</h3>"
   ]
  },
  {
   "cell_type": "code",
   "execution_count": 53,
   "id": "a3ea73c2",
   "metadata": {},
   "outputs": [
    {
     "data": {
      "text/plain": [
       "(74584.8, 109559.75862068965)"
      ]
     },
     "execution_count": 53,
     "metadata": {},
     "output_type": "execute_result"
    }
   ],
   "source": [
    "test_df[\"# of Impressions\"].mean(),control_df[\"# of Impressions\"].mean()"
   ]
  },
  {
   "cell_type": "code",
   "execution_count": 54,
   "id": "711dd93c",
   "metadata": {},
   "outputs": [
    {
     "data": {
      "text/plain": [
       "(6032.333333333333, 5320.793103448276)"
      ]
     },
     "execution_count": 54,
     "metadata": {},
     "output_type": "execute_result"
    }
   ],
   "source": [
    "test_df[\"# of Website Clicks\"].mean(),control_df[\"# of Website Clicks\"].mean()"
   ]
  },
  {
   "cell_type": "code",
   "execution_count": 55,
   "id": "4a00cb9a",
   "metadata": {},
   "outputs": [
    {
     "data": {
      "text/plain": [
       "(881.5333333333333, 1300.0)"
      ]
     },
     "execution_count": 55,
     "metadata": {},
     "output_type": "execute_result"
    }
   ],
   "source": [
    "test_df[\"# of Add to Cart\"].mean(),control_df[\"# of Add to Cart\"].mean()"
   ]
  },
  {
   "cell_type": "code",
   "execution_count": 56,
   "id": "e301fadc",
   "metadata": {},
   "outputs": [
    {
     "data": {
      "text/plain": [
       "(521.2333333333333, 522.7931034482758)"
      ]
     },
     "execution_count": 56,
     "metadata": {},
     "output_type": "execute_result"
    }
   ],
   "source": [
    "test_df[\"# of Purchase\"].mean(),control_df[\"# of Purchase\"].mean()"
   ]
  }
 ],
 "metadata": {
  "kernelspec": {
   "display_name": "Python 3 (ipykernel)",
   "language": "python",
   "name": "python3"
  },
  "language_info": {
   "codemirror_mode": {
    "name": "ipython",
    "version": 3
   },
   "file_extension": ".py",
   "mimetype": "text/x-python",
   "name": "python",
   "nbconvert_exporter": "python",
   "pygments_lexer": "ipython3",
   "version": "3.9.7"
  }
 },
 "nbformat": 4,
 "nbformat_minor": 5
}
